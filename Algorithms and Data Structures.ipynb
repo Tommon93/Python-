{
 "cells": [
  {
   "cell_type": "code",
   "execution_count": 1,
   "id": "0fb4582b",
   "metadata": {},
   "outputs": [],
   "source": [
    "def linear_search(list, target):\n",
    "    \"\"\"\n",
    "    Returns the index position of the target if found, else returns None\n",
    "    \"\"\"\n",
    "    for i in range(0, len(list)):\n",
    "        if list[i] == target: \n",
    "            return i \n",
    "    return None"
   ]
  },
  {
   "cell_type": "code",
   "execution_count": 5,
   "id": "beab3d5f",
   "metadata": {},
   "outputs": [
    {
     "name": "stdout",
     "output_type": "stream",
     "text": [
      "Target not found in list\n",
      "Target found at index:  5\n"
     ]
    }
   ],
   "source": [
    "def verify(index):\n",
    "    if index is not None:\n",
    "        print(\"Target found at index: \", index)\n",
    "    else:\n",
    "        print(\"Target not found in list\")\n",
    "        \n",
    "numbers = [1,2,3,4,5,6,7,8,9,10]\n",
    "\n",
    "result = linear_search(numbers,12)\n",
    "verify(result)\n",
    "\n",
    "result = linear_search(numbers,6)\n",
    "verify(result)"
   ]
  },
  {
   "cell_type": "code",
   "execution_count": 6,
   "id": "0b0af185",
   "metadata": {},
   "outputs": [
    {
     "name": "stdout",
     "output_type": "stream",
     "text": [
      "Target not found in list\n",
      "Target found at index:  5\n"
     ]
    }
   ],
   "source": [
    "#Binary search is used only for a sorted list\n",
    "\n",
    "def binary_search(list, target):\n",
    "    first = 0 \n",
    "    last = len(list) - 1\n",
    "    \n",
    "    while first <= last: \n",
    "        midpoint = (first + last)//2\n",
    "        \n",
    "        if list[midpoint] == target:\n",
    "            return midpoint\n",
    "        elif list[midpoint] < target:\n",
    "            first = midpoint + 1\n",
    "        else:\n",
    "            last = midpoint - 1\n",
    "            \n",
    "    return None\n",
    "\n",
    "\n",
    "def verify(index):\n",
    "    if index is not None:\n",
    "        print(\"Target found at index: \", index)\n",
    "    else:\n",
    "        print(\"Target not found in list\")\n",
    "        \n",
    "        \n",
    "numbers = [1,2,3,4,5,6,7,8,9,10]\n",
    "\n",
    "result = binary_search(numbers,12)\n",
    "verify(result)\n",
    "\n",
    "result = binary_search(numbers,6)\n",
    "verify(result)        \n"
   ]
  },
  {
   "cell_type": "markdown",
   "id": "e2d45150",
   "metadata": {},
   "source": [
    "***Introduction to Data Structures***\n",
    "\n",
    "Data structures are a data storage format. It is the collection of values and the format they are stored in, the relationships between the values in the colleciton as well as the operations applied on the data stored in the structure. "
   ]
  },
  {
   "cell_type": "markdown",
   "id": "6ba8f5a7",
   "metadata": {},
   "source": [
    "#Arrays\n",
    "##Create linked lists\n",
    "###Sorting Algorithms\n",
    "####Divide and Conquer "
   ]
  },
  {
   "cell_type": "markdown",
   "id": "efba0fe0",
   "metadata": {},
   "source": [
    "**Arrays**\n",
    "\n",
    "#Each index in an array stores data\n",
    "#Arrays in python are heterogenous - they can store different types of data i.e int and strings\n",
    "#Arrays in python is the list[]\n",
    "\n",
    "Arrays are contiguous data structure - no gaps between each index  (constant run time )\n",
    "\n",
    "Non-contiguous data structures require a pointer to reference the next data point(structure) stored in memory (this usually increases run times)\n",
    "\n",
    "Python's compiler does something similar to contiguous data structure even though it's arrays are heterogenous, by using a pointer to reference the stored data in memory (does has additional costs)\n",
    "\n",
    "*Operations on Data Structures*\n",
    "1. Access and read values\n",
    "For arrays, access is used by index. \n",
    "By default, when an array is created a base amount of contiguous memory is created as the array storage. (Computers refer to memory through the use of addresses)\n",
    "Instead of using up more memory to store addresses for each array, it only has to store the first one in the block. Because it is contiguous it can calculate the following values by calculating the next position/address by the next index. \n",
    "Storage memory = n*m - each pointer uses m(memory) for each index, then it is multiplied by n(the size of the value that is stored)\n",
    "\n",
    "2. Search for an arbitrary values\n",
    "Arrays are fast at accessing values but are bad at searching. \n",
    "Linear search will look at each one in the array - if the target value is at the end of the list then that means each value in the array would have been accessed and compared to (constant time).\n",
    "The overall time complexity is linear time. \n",
    "\n",
    "3. Insert values at any point into the structure\n",
    "4. Delete values in the structure"
   ]
  },
  {
   "cell_type": "markdown",
   "id": "f58b10a9",
   "metadata": {},
   "source": []
  }
 ],
 "metadata": {
  "kernelspec": {
   "display_name": "Python 3.9.13 64-bit",
   "language": "python",
   "name": "python3"
  },
  "language_info": {
   "codemirror_mode": {
    "name": "ipython",
    "version": 3
   },
   "file_extension": ".py",
   "mimetype": "text/x-python",
   "name": "python",
   "nbconvert_exporter": "python",
   "pygments_lexer": "ipython3",
   "version": "3.9.13"
  },
  "vscode": {
   "interpreter": {
    "hash": "b0fa6594d8f4cbf19f97940f81e996739fb7646882a419484c72d19e05852a7e"
   }
  }
 },
 "nbformat": 4,
 "nbformat_minor": 5
}

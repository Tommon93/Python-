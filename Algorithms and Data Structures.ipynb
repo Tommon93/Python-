{
 "cells": [
  {
   "cell_type": "code",
   "execution_count": 1,
   "id": "0fb4582b",
   "metadata": {},
   "outputs": [],
   "source": [
    "def linear_search(list, target):\n",
    "    \"\"\"\n",
    "    Returns the index position of the target if found, else returns None\n",
    "    \"\"\"\n",
    "    for i in range(0, len(list)):\n",
    "        if list[i] == target: \n",
    "            return i \n",
    "    return None"
   ]
  },
  {
   "cell_type": "code",
   "execution_count": 5,
   "id": "beab3d5f",
   "metadata": {},
   "outputs": [
    {
     "name": "stdout",
     "output_type": "stream",
     "text": [
      "Target not found in list\n",
      "Target found at index:  5\n"
     ]
    }
   ],
   "source": [
    "def verify(index):\n",
    "    if index is not None:\n",
    "        print(\"Target found at index: \", index)\n",
    "    else:\n",
    "        print(\"Target not found in list\")\n",
    "        \n",
    "numbers = [1,2,3,4,5,6,7,8,9,10]\n",
    "\n",
    "result = linear_search(numbers,12)\n",
    "verify(result)\n",
    "\n",
    "result = linear_search(numbers,6)\n",
    "verify(result)"
   ]
  },
  {
   "cell_type": "code",
   "execution_count": 6,
   "id": "0b0af185",
   "metadata": {},
   "outputs": [
    {
     "name": "stdout",
     "output_type": "stream",
     "text": [
      "Target not found in list\n",
      "Target found at index:  5\n"
     ]
    }
   ],
   "source": [
    "#Binary search is used only for a sorted list\n",
    "\n",
    "def binary_search(list, target):\n",
    "    first = 0 \n",
    "    last = len(list) - 1\n",
    "    \n",
    "    while first <= last: \n",
    "        midpoint = (first + last)//2\n",
    "        \n",
    "        if list[midpoint] == target:\n",
    "            return midpoint\n",
    "        elif list[midpoint] < target:\n",
    "            first = midpoint + 1\n",
    "        else:\n",
    "            last = midpoint - 1\n",
    "            \n",
    "    return None\n",
    "\n",
    "\n",
    "def verify(index):\n",
    "    if index is not None:\n",
    "        print(\"Target found at index: \", index)\n",
    "    else:\n",
    "        print(\"Target not found in list\")\n",
    "        \n",
    "        \n",
    "numbers = [1,2,3,4,5,6,7,8,9,10]\n",
    "\n",
    "result = binary_search(numbers,12)\n",
    "verify(result)\n",
    "\n",
    "result = binary_search(numbers,6)\n",
    "verify(result)        \n"
   ]
  },
  {
   "cell_type": "code",
   "execution_count": 7,
   "id": "ed10c421",
   "metadata": {},
   "outputs": [
    {
     "name": "stdout",
     "output_type": "stream",
     "text": [
      "Target found:  False\n",
      "Target found:  True\n"
     ]
    }
   ],
   "source": [
    "#Binary Search version 2 - Recursive Binary Search\n",
    "\n",
    "#Return True or False if value exists/not exists\n",
    "\n",
    "def recursive_binary_search(list, target):\n",
    "    if len(list) == 0:\n",
    "        return False\n",
    "    else:\n",
    "        midpoint = (len(list))//2\n",
    "        \n",
    "        if list[midpoint] == target:\n",
    "            return True\n",
    "        else:\n",
    "            if list[midpoint] < target:\n",
    "                return recursive_binary_search(list[midpoint+1:], target)\n",
    "            else:\n",
    "                return recursive_binary_search(list[:midpoint], target)\n",
    "            \n",
    "def verify(result):\n",
    "    print(\"Target found: \", result)\n",
    "    \n",
    "numbers = [1,2,3,4,5,6,7,8]\n",
    "result = recursive_binary_search(numbers, 12)\n",
    "verify(result)\n",
    "\n",
    "\n",
    "result = recursive_binary_search(numbers, 6)\n",
    "verify(result)\n"
   ]
  },
  {
   "cell_type": "code",
   "execution_count": null,
   "id": "ed103ec1",
   "metadata": {},
   "outputs": [],
   "source": []
  }
 ],
 "metadata": {
  "kernelspec": {
   "display_name": "Python 3",
   "language": "python",
   "name": "python3"
  },
  "language_info": {
   "codemirror_mode": {
    "name": "ipython",
    "version": 3
   },
   "file_extension": ".py",
   "mimetype": "text/x-python",
   "name": "python",
   "nbconvert_exporter": "python",
   "pygments_lexer": "ipython3",
   "version": "3.8.8"
  }
 },
 "nbformat": 4,
 "nbformat_minor": 5
}
